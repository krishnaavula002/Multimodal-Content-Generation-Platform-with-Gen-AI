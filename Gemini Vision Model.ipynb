{
 "cells": [
  {
   "cell_type": "markdown",
   "id": "e4639f21-cb29-42c8-80c6-da19fb92e5a7",
   "metadata": {
    "tags": []
   },
   "source": [
    "# Gemini Vision Model\n"
   ]
  },
  {
   "cell_type": "code",
   "execution_count": null,
   "id": "81a4cf7e-f362-4199-ad00-bcd5e5b97f51",
   "metadata": {},
   "outputs": [],
   "source": [
    "import os\n",
    "\n",
    "import google.generativeai as genai\n",
    "\n",
    "api_key = 'your own key'\n",
    "\n",
    "genai.configure(api_key=api_key)"
   ]
  },
  {
   "cell_type": "code",
   "execution_count": null,
   "id": "2cdfe863-ddb0-4d93-bcc7-734cbf703e07",
   "metadata": {},
   "outputs": [],
   "source": [
    "model = genai.GenerativeModel(model_name = \"gemini-1.5-pro\")\n",
    "#model = genai.GenerativeModel('gemini-1.5-flash')"
   ]
  },
  {
   "cell_type": "code",
   "execution_count": null,
   "id": "5e65cd06-81b2-41d4-b8b6-b64fcf793152",
   "metadata": {},
   "outputs": [],
   "source": [
    "chat = model.start_chat()"
   ]
  },
  {
   "cell_type": "code",
   "execution_count": null,
   "id": "1e70b58b-d3af-4d5d-aa26-0db9db16ef1b",
   "metadata": {},
   "outputs": [],
   "source": [
    "response = chat.send_message(\"I am Planning to Learn Data Science ? What are the Job Roles for data science\")"
   ]
  },
  {
   "cell_type": "code",
   "execution_count": null,
   "id": "43763178-0eb0-454e-92b4-f42afaebb52a",
   "metadata": {},
   "outputs": [],
   "source": [
    "print(response.text)"
   ]
  },
  {
   "cell_type": "code",
   "execution_count": null,
   "id": "d3bdbfbf-a81f-4ed9-8cf0-b712d8de1da0",
   "metadata": {},
   "outputs": [],
   "source": [
    "for item in chat.history:\n",
    "    print(item)\n",
    "    print('\\n\\n')"
   ]
  },
  {
   "cell_type": "code",
   "execution_count": null,
   "id": "45430dfe-5eb2-4d89-bce5-f6b0de1ac39f",
   "metadata": {},
   "outputs": [],
   "source": [
    "type(item)"
   ]
  },
  {
   "cell_type": "code",
   "execution_count": null,
   "id": "16f345b3-e77d-465f-bcf2-ac924e15f4b7",
   "metadata": {},
   "outputs": [],
   "source": [
    "item.role"
   ]
  },
  {
   "cell_type": "code",
   "execution_count": null,
   "id": "c1633cdf-a832-4af2-8587-2ffdb5cb4152",
   "metadata": {},
   "outputs": [],
   "source": [
    "item.parts[0].text"
   ]
  },
  {
   "cell_type": "code",
   "execution_count": null,
   "id": "725b51af-be44-4a4d-8c9c-2ded6054f20f",
   "metadata": {},
   "outputs": [],
   "source": [
    "response = chat.send_message(\"Give me more details about that last point\")"
   ]
  },
  {
   "cell_type": "code",
   "execution_count": null,
   "id": "b8a1669f-e7d2-43c5-b92d-08311accd592",
   "metadata": {},
   "outputs": [],
   "source": [
    "print(response.text)"
   ]
  },
  {
   "cell_type": "code",
   "execution_count": null,
   "id": "d43befaf-1bd7-47f3-bf05-395f17a61af9",
   "metadata": {},
   "outputs": [],
   "source": [
    "print(chat.history)"
   ]
  },
  {
   "cell_type": "code",
   "execution_count": null,
   "id": "e940c7b1-70aa-4b6b-96cd-d6a7b38d7532",
   "metadata": {},
   "outputs": [],
   "source": [
    "response = chat.send_message(\"What was the basic salary package for data scientist\", stream=True)\n",
    "\n",
    "for chunk in response:\n",
    "    print(chunk.text)\n"
   ]
  },
  {
   "cell_type": "markdown",
   "id": "8a593993-f7e6-4e83-9b22-bc18e7b79150",
   "metadata": {},
   "source": [
    "## Image\n"
   ]
  },
  {
   "cell_type": "code",
   "execution_count": null,
   "id": "34d3d93f-8cf9-4511-b917-8aee879ffb4e",
   "metadata": {},
   "outputs": [],
   "source": [
    "import httpx\n",
    "import os\n",
    "import base64\n",
    "\n",
    "model = genai.GenerativeModel(model_name = \"gemini-1.5-pro\")\n",
    "image_path = \"https://upload.wikimedia.org/wikipedia/commons/thumb/8/87/Palace_of_Westminster_from_the_dome_on_Methodist_Central_Hall.jpg/2560px-Palace_of_Westminster_from_the_dome_on_Methodist_Central_Hall.jpg\"\n",
    "\n",
    "image = httpx.get(image_path)\n",
    "\n",
    "prompt = \"Caption this image.\"\n",
    "response = model.generate_content([{'mime_type':'image/jpeg', 'data': base64.b64encode(image.content).decode('utf-8')}, prompt])\n",
    "\n",
    "print(response.text)"
   ]
  },
  {
   "cell_type": "code",
   "execution_count": null,
   "id": "9cf36d31-ed2f-4eb3-8f69-f27a178d5ae0",
   "metadata": {},
   "outputs": [],
   "source": [
    "import PIL.Image\n",
    "import os\n",
    "import google.generativeai as genai\n",
    "\n",
    "image_path_1 = \"security_ctr_900.jpg\"  \n",
    "image_path_2 = \"meals.jpg\" \n",
    "\n",
    "sample_file_1 = PIL.Image.open(image_path_1)\n",
    "sample_file_2 = PIL.Image.open(image_path_2)\n",
    "\n",
    "#Choose a Gemini model.\n",
    "model = genai.GenerativeModel(model_name=\"gemini-1.5-pro\")\n",
    "\n",
    "prompt = \"Write about image 1 and image 2 separately.\"\n",
    "\n",
    "response = model.generate_content([prompt, sample_file_1, sample_file_2])\n",
    "\n",
    "print(response.text)"
   ]
  },
  {
   "cell_type": "code",
   "execution_count": null,
   "id": "e900b1c2-f737-4386-a130-b34aeccf1596",
   "metadata": {},
   "outputs": [],
   "source": [
    "video_file_name = \"pawan kalyan.mp4\"\n",
    "\n",
    "print(f\"Uploading file...\")\n",
    "video_file = genai.upload_file(path=video_file_name)\n",
    "print(f\"Completed upload: {video_file.uri}\")"
   ]
  },
  {
   "cell_type": "code",
   "execution_count": null,
   "id": "a1196d0c-04a7-4ee3-8e93-fcf7196fc989",
   "metadata": {},
   "outputs": [],
   "source": [
    "# Create the prompt.\n",
    "prompt = \"What are the examples given at 01:05 and 01:19 supposed to show us?\"\n",
    "\n",
    "# Choose a Gemini model.\n",
    "model = genai.GenerativeModel(model_name=\"gemini-1.5-pro\")\n",
    "\n",
    "# Make the LLM request.\n",
    "print(\"Making LLM inference request...\")\n",
    "response = model.generate_content([video_file, prompt],\n",
    "                                  request_options={\"timeout\": 600})\n",
    "print(response.text)"
   ]
  },
  {
   "cell_type": "code",
   "execution_count": null,
   "id": "f79e367f-7e0b-4234-a3fe-b3409108fc45",
   "metadata": {},
   "outputs": [],
   "source": [
    "# Create the prompt.\n",
    "prompt = \"Transcribe the audio from this video, giving timestamps for salient events in the video. Also provide visual descriptions.\"\n",
    "\n",
    "# Choose a Gemini model.\n",
    "model = genai.GenerativeModel(model_name=\"gemini-1.5-pro\")\n",
    "\n",
    "# Make the LLM request.\n",
    "print(\"Making LLM inference request...\")\n",
    "response = model.generate_content([video_file, prompt],\n",
    "                                  request_options={\"timeout\": 600})\n",
    "print(response.text)"
   ]
  },
  {
   "cell_type": "code",
   "execution_count": null,
   "id": "8c3f403d-7619-4e30-a0aa-acd23f9f488b",
   "metadata": {},
   "outputs": [],
   "source": []
  }
 ],
 "metadata": {
  "kernelspec": {
   "display_name": "Python 3 (ipykernel)",
   "language": "python",
   "name": "python3"
  },
  "language_info": {
   "codemirror_mode": {
    "name": "ipython",
    "version": 3
   },
   "file_extension": ".py",
   "mimetype": "text/x-python",
   "name": "python",
   "nbconvert_exporter": "python",
   "pygments_lexer": "ipython3",
   "version": "3.12.4"
  },
  "widgets": {
   "application/vnd.jupyter.widget-state+json": {
    "state": {},
    "version_major": 2,
    "version_minor": 0
   }
  }
 },
 "nbformat": 4,
 "nbformat_minor": 5
}
